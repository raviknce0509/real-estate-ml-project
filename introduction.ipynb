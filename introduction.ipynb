{
 "cells": [
  {
   "cell_type": "markdown",
   "id": "1568a70c",
   "metadata": {},
   "source": [
    "# Introduction\n"
   ]
  },
  {
   "cell_type": "markdown",
   "id": "01a36ded",
   "metadata": {},
   "source": [
    "Working as a Data Scientist at a real estate company (Fictitious).\n",
    "Goal here get familiar with main steps of the Machine Learning project\n",
    "- Look at the big picture\n",
    "- Get the data\n",
    "- Explore and visualze the data to gain insights\n",
    "- prepare the data for Machine learning algorithms\n",
    "- Select a model and train it \n",
    "- Fine tune your model\n",
    "- present your solution\n",
    "- launch, monitor, and maintain your system."
   ]
  },
  {
   "cell_type": "markdown",
   "id": "b29c19bb",
   "metadata": {},
   "source": [
    "Dataset:\n",
    "We are using California housing price dataset from the StatLib repository. This dataset is based on data from the 1990 California census. It is not exactly recent (a nice house in the Bay Area was still affordable at the time), but it has many qualities for learning, so we will pretend it is recent data. For teaching purposes I’ve added a categorical attribute and removed a few features.\n"
   ]
  },
  {
   "cell_type": "markdown",
   "id": "8979d820",
   "metadata": {},
   "source": [
    "## Frame the Problem and Look at the Big Picture\n",
    "\n",
    "- Define the objective in business terms.\n",
    "- How will your solution be used?\n",
    "- What are the current solutions/workarounds (if any)?\n",
    "- How should you frame this problem (supervised/unsupervised, online/offline, etc.)?\n",
    "- How should performance be measured?\n",
    "- Is the performance measure aligned with the business objective?\n",
    "- What would be the minimum performance needed to reach the business objective?\n",
    "- What are comparable problems? Can you reuse experience or tools?\n",
    "- Is human expertise available?\n",
    "- How would you solve the problem manually?\n",
    "- List the assumptions you (or others) have made so far.\n",
    "- Verify assumptions if possible.\n"
   ]
  },
  {
   "cell_type": "markdown",
   "id": "5f93245b",
   "metadata": {},
   "source": [
    "![](ML-pipeline.png)"
   ]
  },
  {
   "cell_type": "markdown",
   "id": "a7033fc1",
   "metadata": {},
   "source": []
  }
 ],
 "metadata": {
  "kernelspec": {
   "display_name": "base",
   "language": "python",
   "name": "python3"
  },
  "language_info": {
   "name": "python",
   "version": "3.11.5"
  }
 },
 "nbformat": 4,
 "nbformat_minor": 5
}
